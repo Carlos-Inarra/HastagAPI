{
 "cells": [
  {
   "cell_type": "code",
   "execution_count": 5,
   "metadata": {},
   "outputs": [],
   "source": [
    "import requests,json"
   ]
  },
  {
   "cell_type": "code",
   "execution_count": 29,
   "metadata": {},
   "outputs": [
    {
     "data": {
      "text/plain": [
       "<Response [200]>"
      ]
     },
     "execution_count": 29,
     "metadata": {},
     "output_type": "execute_result"
    }
   ],
   "source": [
    "datt = {'Familia':123,'Casa':1781672}\n",
    "# headers = {'Content-Type': 'application/json'}\n",
    "a = requests.post(\"http://127.0.0.1:5000/EntradaDeWebhooks\", data=json.dumps(datt), headers=headers)\n",
    "a"
   ]
  },
  {
   "cell_type": "code",
   "execution_count": 26,
   "metadata": {},
   "outputs": [],
   "source": [
    "import hashlib"
   ]
  },
  {
   "cell_type": "code",
   "execution_count": 20,
   "metadata": {},
   "outputs": [
    {
     "name": "stdout",
     "output_type": "stream",
     "text": [
      "Pagamento aprovado!\n"
     ]
    }
   ],
   "source": [
    "match pagamento:\n",
    "    case 'Aprovado':\n",
    "        print(\"Pagamento aprovado!\")\n",
    "    case 'Recusado':\n",
    "        print(\"Pagamento recusado.\")\n",
    "    case _:\n",
    "        print(f\"Status do pagamento desconhecido: {pagamento}\")\n"
   ]
  }
 ],
 "metadata": {
  "kernelspec": {
   "display_name": "Hastag_API_Vaga",
   "language": "python",
   "name": "python3"
  },
  "language_info": {
   "codemirror_mode": {
    "name": "ipython",
    "version": 3
   },
   "file_extension": ".py",
   "mimetype": "text/x-python",
   "name": "python",
   "nbconvert_exporter": "python",
   "pygments_lexer": "ipython3",
   "version": "3.11.4"
  }
 },
 "nbformat": 4,
 "nbformat_minor": 2
}
